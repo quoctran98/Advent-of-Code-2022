{
 "cells": [
  {
   "cell_type": "code",
   "execution_count": 32,
   "metadata": {},
   "outputs": [],
   "source": [
    "with open('input.txt') as f:\n",
    "    input = f.readlines()\n",
    "    input = [x.strip() for x in input]"
   ]
  },
  {
   "cell_type": "markdown",
   "metadata": {},
   "source": [
    "### Part 1\n",
    "\n",
    "Find the item type that appears in both compartments of each rucksack. What is the sum of the priorities of those item types?"
   ]
  },
  {
   "cell_type": "code",
   "execution_count": 33,
   "metadata": {},
   "outputs": [],
   "source": [
    "import string\n",
    "priority_list = [x for x in string.ascii_lowercase + string.ascii_uppercase]"
   ]
  },
  {
   "cell_type": "code",
   "execution_count": 34,
   "metadata": {},
   "outputs": [],
   "source": [
    "sum_of_priorities = 0\n",
    "\n",
    "for rucksack in input:\n",
    "    compartment_1 = set([x for x in rucksack[:len(rucksack)//2]])\n",
    "    compartment_2 = set([x for x in rucksack[len(rucksack)//2:]])\n",
    "    overlap = compartment_1.intersection(compartment_2)\n",
    "    assert(len(overlap)==1)\n",
    "    item = list(overlap)[0]\n",
    "    sum_of_priorities += (priority_list.index(item) + 1)"
   ]
  },
  {
   "cell_type": "code",
   "execution_count": 35,
   "metadata": {},
   "outputs": [
    {
     "name": "stdout",
     "output_type": "stream",
     "text": [
      "7831\n"
     ]
    }
   ],
   "source": [
    "print(sum_of_priorities)"
   ]
  },
  {
   "cell_type": "markdown",
   "metadata": {},
   "source": [
    "### Part 2\n",
    "\n",
    "Find the item type that corresponds to the badges of each three-Elf group. What is the sum of the priorities of those item types?"
   ]
  },
  {
   "cell_type": "code",
   "execution_count": 36,
   "metadata": {},
   "outputs": [],
   "source": [
    "sum_of_priorities = 0\n",
    "\n",
    "for idx in range(0, len(input), 3): \n",
    "    group = input[idx:idx+3]\n",
    "    rucksacks = [set(sack) for sack in group]\n",
    "    overlap = set.intersection(*rucksacks)\n",
    "    assert(len(overlap)==1)\n",
    "    item = list(overlap)[0]\n",
    "    sum_of_priorities += (priority_list.index(item) + 1)\n"
   ]
  },
  {
   "cell_type": "code",
   "execution_count": 37,
   "metadata": {},
   "outputs": [
    {
     "name": "stdout",
     "output_type": "stream",
     "text": [
      "2683\n"
     ]
    }
   ],
   "source": [
    "print(sum_of_priorities)"
   ]
  }
 ],
 "metadata": {
  "kernelspec": {
   "display_name": "Python 3.10.2 64-bit",
   "language": "python",
   "name": "python3"
  },
  "language_info": {
   "codemirror_mode": {
    "name": "ipython",
    "version": 3
   },
   "file_extension": ".py",
   "mimetype": "text/x-python",
   "name": "python",
   "nbconvert_exporter": "python",
   "pygments_lexer": "ipython3",
   "version": "3.10.2"
  },
  "orig_nbformat": 4,
  "vscode": {
   "interpreter": {
    "hash": "aee8b7b246df8f9039afb4144a1f6fd8d2ca17a180786b69acc140d282b71a49"
   }
  }
 },
 "nbformat": 4,
 "nbformat_minor": 2
}
