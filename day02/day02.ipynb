{
 "cells": [
  {
   "cell_type": "code",
   "execution_count": 19,
   "metadata": {},
   "outputs": [],
   "source": [
    "with open('input.txt') as f:\n",
    "    input = f.readlines()\n",
    "    input = [x.strip() for x in input]\n",
    "    input = [x.split(' ') for x in input]"
   ]
  },
  {
   "cell_type": "markdown",
   "metadata": {},
   "source": [
    "### Part 1\n",
    "\n",
    "What would your total score be if everything goes exactly according to your strategy guide?"
   ]
  },
  {
   "cell_type": "code",
   "execution_count": 20,
   "metadata": {},
   "outputs": [],
   "source": [
    "dict_shape = {\n",
    "    \"X\": 1,\n",
    "    \"Y\": 2,\n",
    "    \"Z\": 3\n",
    "}\n",
    "\n",
    "dict_win = {\n",
    "    \"A\": \"Y\",\n",
    "    \"B\": \"Z\",\n",
    "    \"C\": \"X\",\n",
    "}\n",
    "\n",
    "dict_tie = {\n",
    "    \"A\": \"X\",\n",
    "    \"B\": \"Y\",\n",
    "    \"C\": \"Z\"\n",
    "}\n",
    "\n",
    "def get_outcome(hands):\n",
    "    if dict_win[hands[0]] == hands[1]:\n",
    "        return(6)\n",
    "    elif dict_tie[hands[0]] == hands[1]:\n",
    "        return(3)\n",
    "    else:\n",
    "        return(0)"
   ]
  },
  {
   "cell_type": "code",
   "execution_count": 21,
   "metadata": {},
   "outputs": [],
   "source": [
    "score = 0\n",
    "for hand in input:\n",
    "    score += get_outcome(hand) + dict_shape[hand[1]]"
   ]
  },
  {
   "cell_type": "code",
   "execution_count": 22,
   "metadata": {},
   "outputs": [
    {
     "name": "stdout",
     "output_type": "stream",
     "text": [
      "13268\n"
     ]
    }
   ],
   "source": [
    "print(score)"
   ]
  },
  {
   "cell_type": "markdown",
   "metadata": {},
   "source": [
    "### Part 2\n",
    "\n",
    "Following the Elf's instructions for the second column, what would your total score be if everything goes exactly according to your strategy guide?\n"
   ]
  },
  {
   "cell_type": "code",
   "execution_count": 23,
   "metadata": {},
   "outputs": [],
   "source": [
    "dict_lose = {\n",
    "    \"A\": \"Z\",\n",
    "    \"B\": \"X\",\n",
    "    \"C\": \"Y\"\n",
    "}\n",
    "\n",
    "def replace_hand(hand_in):\n",
    "    if hand_in[1] == \"X\":\n",
    "        new_hand = dict_lose[hand_in[0]]\n",
    "    elif hand_in[1] == \"Y\":\n",
    "        new_hand = dict_tie[hand_in[0]]\n",
    "    else:\n",
    "        new_hand = dict_win[hand_in[0]]\n",
    "    return([hand_in[0], new_hand])"
   ]
  },
  {
   "cell_type": "code",
   "execution_count": 24,
   "metadata": {},
   "outputs": [],
   "source": [
    "new_input = [replace_hand(x) for x in input]\n",
    "\n",
    "score = 0\n",
    "for hand in new_input:\n",
    "    score += get_outcome(hand) + dict_shape[hand[1]]"
   ]
  },
  {
   "cell_type": "code",
   "execution_count": 25,
   "metadata": {},
   "outputs": [
    {
     "name": "stdout",
     "output_type": "stream",
     "text": [
      "15508\n"
     ]
    }
   ],
   "source": [
    "print(score)"
   ]
  }
 ],
 "metadata": {
  "kernelspec": {
   "display_name": "Python 3.10.2 64-bit",
   "language": "python",
   "name": "python3"
  },
  "language_info": {
   "codemirror_mode": {
    "name": "ipython",
    "version": 3
   },
   "file_extension": ".py",
   "mimetype": "text/x-python",
   "name": "python",
   "nbconvert_exporter": "python",
   "pygments_lexer": "ipython3",
   "version": "3.10.2"
  },
  "orig_nbformat": 4,
  "vscode": {
   "interpreter": {
    "hash": "aee8b7b246df8f9039afb4144a1f6fd8d2ca17a180786b69acc140d282b71a49"
   }
  }
 },
 "nbformat": 4,
 "nbformat_minor": 2
}
