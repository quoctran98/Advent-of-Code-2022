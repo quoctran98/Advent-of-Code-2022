{
 "cells": [
  {
   "cell_type": "code",
   "execution_count": 36,
   "metadata": {},
   "outputs": [],
   "source": [
    "with open('input.txt') as f:\n",
    "    input = f.readlines()\n",
    "    #input = [x.strip() for x in input]"
   ]
  },
  {
   "cell_type": "markdown",
   "metadata": {},
   "source": [
    "### Part 1\n",
    "\n",
    "After the rearrangement procedure completes, what crate ends up on top of each stack?"
   ]
  },
  {
   "cell_type": "code",
   "execution_count": 37,
   "metadata": {},
   "outputs": [],
   "source": [
    "# Let's parse the stack:\n",
    "# I hate that these lines have hardcoded numbers, but who cares!\n",
    "\n",
    "stacks = {str(i):[] for i in range(1,10)}\n",
    "\n",
    "for row_idx in range(7,-1,-1): # Start from the bottom because we're using a stack\n",
    "    this_row = [input[row_idx][stack_start:stack_start+4] for stack_start in range(0, 9*4, 4)]\n",
    "    for stack_idx, pre_crate in enumerate(this_row):\n",
    "        if pre_crate != \"    \":\n",
    "            crate = pre_crate[1:2]\n",
    "            if crate != \" \": # Weird bug with parsing that I don't care about fixing nicely\n",
    "                stacks[str(stack_idx+1)].append(crate)"
   ]
  },
  {
   "cell_type": "code",
   "execution_count": 38,
   "metadata": {},
   "outputs": [],
   "source": [
    "instructions = [x.strip() for x in input[10:]]\n",
    "\n",
    "def move_crates (n, source, dest): \n",
    "    for _ in range(n):\n",
    "        crate = stacks[str(source)].pop()\n",
    "        stacks[str(dest)].append(crate)\n",
    "\n",
    "for instr in instructions:\n",
    "    instr = instr.split(\" \")\n",
    "    instr = [int(x) for x in instr if x not in [\"move\", \"from\", \"to\"]]\n",
    "    move_crates(*instr)"
   ]
  },
  {
   "cell_type": "code",
   "execution_count": 39,
   "metadata": {},
   "outputs": [],
   "source": [
    "top_crates = \"\".join([crate.pop() for crate in stacks.values()])"
   ]
  },
  {
   "cell_type": "code",
   "execution_count": 40,
   "metadata": {},
   "outputs": [
    {
     "name": "stdout",
     "output_type": "stream",
     "text": [
      "FCVRLMVQP\n"
     ]
    }
   ],
   "source": [
    "print(top_crates)"
   ]
  },
  {
   "cell_type": "markdown",
   "metadata": {},
   "source": [
    "## Part 2\n",
    "\n",
    "After the rearrangement procedure completes, what crate ends up on top of each stack?"
   ]
  },
  {
   "cell_type": "code",
   "execution_count": 41,
   "metadata": {},
   "outputs": [],
   "source": [
    "# Let's parse the stack:\n",
    "# I hate that these lines have hardcoded numbers, but who cares!\n",
    "\n",
    "stacks = {str(i):[] for i in range(1,10)}\n",
    "\n",
    "for row_idx in range(7,-1,-1): # Start from the bottom because we're using a stack\n",
    "    this_row = [input[row_idx][stack_start:stack_start+4] for stack_start in range(0, 9*4, 4)]\n",
    "    for stack_idx, pre_crate in enumerate(this_row):\n",
    "        if pre_crate != \"    \":\n",
    "            crate = pre_crate[1:2]\n",
    "            if crate != \" \": # Weird bug with parsing that I don't care about fixing nicely\n",
    "                stacks[str(stack_idx+1)].append(crate)"
   ]
  },
  {
   "cell_type": "code",
   "execution_count": 42,
   "metadata": {},
   "outputs": [],
   "source": [
    "instructions = [x.strip() for x in input[10:]]\n",
    "\n",
    "def move_crates (n, source, dest):\n",
    "    crates = stacks[str(source)][-n:]\n",
    "    stacks[str(source)][-n:] = []\n",
    "    stacks[str(dest)] += crates\n",
    "\n",
    "for instr in instructions:\n",
    "    instr = instr.split(\" \")\n",
    "    instr = [int(x) for x in instr if x not in [\"move\", \"from\", \"to\"]]\n",
    "    move_crates(*instr)"
   ]
  },
  {
   "cell_type": "code",
   "execution_count": 43,
   "metadata": {},
   "outputs": [],
   "source": [
    "top_crates = \"\".join([crate.pop() for crate in stacks.values()])"
   ]
  },
  {
   "cell_type": "code",
   "execution_count": 44,
   "metadata": {},
   "outputs": [
    {
     "name": "stdout",
     "output_type": "stream",
     "text": [
      "RWLWGJGFD\n"
     ]
    }
   ],
   "source": [
    "print(top_crates)"
   ]
  }
 ],
 "metadata": {
  "kernelspec": {
   "display_name": "Python 3.10.2 64-bit",
   "language": "python",
   "name": "python3"
  },
  "language_info": {
   "codemirror_mode": {
    "name": "ipython",
    "version": 3
   },
   "file_extension": ".py",
   "mimetype": "text/x-python",
   "name": "python",
   "nbconvert_exporter": "python",
   "pygments_lexer": "ipython3",
   "version": "3.10.2"
  },
  "orig_nbformat": 4,
  "vscode": {
   "interpreter": {
    "hash": "aee8b7b246df8f9039afb4144a1f6fd8d2ca17a180786b69acc140d282b71a49"
   }
  }
 },
 "nbformat": 4,
 "nbformat_minor": 2
}
